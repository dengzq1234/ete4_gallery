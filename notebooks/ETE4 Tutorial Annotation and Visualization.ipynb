{
 "cells": [
  {
   "cell_type": "markdown",
   "id": "fe77a2f0",
   "metadata": {},
   "source": [
    "# ETE4 Tutorial Annotation and Visualization in Smartview"
   ]
  },
  {
   "cell_type": "markdown",
   "id": "de540c91",
   "metadata": {},
   "source": [
    "# Tree node annotation in ETE4"
   ]
  },
  {
   "cell_type": "markdown",
   "id": "eecccc58",
   "metadata": {},
   "source": [
    "Adding properties to the nodes of a tree is called tree annotation. ETE stores the properties (annotations) of a node in a dictionary called props.\n",
    "\n",
    "In a phylogenetic tree, the nodes (with their branches) often have names, branch lengths, and branch supports. ETE provides a shortcut for their corresponding properties **name**, **dist**, and **support**, so instead of writing ```n.props.get('name')```, you can write ```n.name```, and similarly for ```n.dist``` and ```n.support```.\n",
    "\n",
    "The **```Tree.add_prop()```** and **```Tree.add_props()```** methods allow to add extra properties (features, annotations) to any node. The first one allows to add one one feature at a time, while the second one can be used to add many features with the same call.\n",
    "\n",
    "Similarly, **```Tree.del_prop()```** can be used to delete a property.\n",
    "\n",
    "Example using annotations when working on a tree:"
   ]
  },
  {
   "cell_type": "code",
   "execution_count": null,
   "id": "c9f10ca4",
   "metadata": {},
   "outputs": [],
   "source": [
    "from ete4 import Tree\n",
    "\n",
    "t = Tree('((H:0.3,I:0.1),A:1,(B:0.4,(C:0.5,(J:1.3,(F:1.2,D:0.1)))));')\n",
    "\n",
    "print(t.to_str())"
   ]
  },
  {
   "cell_type": "code",
   "execution_count": null,
   "id": "dd5fb1b2",
   "metadata": {},
   "outputs": [],
   "source": []
  },
  {
   "cell_type": "code",
   "execution_count": null,
   "id": "767bc37c",
   "metadata": {},
   "outputs": [],
   "source": [
    "# Reference some nodes (to use later).\n",
    "A = t['A']  # by name\n",
    "C = t['C']\n",
    "H = t['H']\n",
    "ancestor_JFC = t.common_ancestor(['J', 'F', 'C'])  # by common ancestor\n",
    "\n",
    "# check out\n",
    "print(ancestor_JFC.to_str())"
   ]
  },
  {
   "cell_type": "code",
   "execution_count": null,
   "id": "2ab500de",
   "metadata": {},
   "outputs": [],
   "source": []
  },
  {
   "cell_type": "code",
   "execution_count": null,
   "id": "f39fa678",
   "metadata": {},
   "outputs": [],
   "source": [
    "# Let's now add some custom features to our nodes.\n",
    "C.add_props(vowel=False, confidence=1.0)\n",
    "A.add_props(vowel=True, confidence=0.8)\n",
    "\n",
    "ancestor_JFC.name = \"ancestor_JFC\"\n",
    "ancestor_JFC.add_props(nodetype='internal')\n",
    "\n",
    "H.add_props(vowel=False, confidence=0.3)\n",
    "\n",
    "for node in [A, C, H, ancestor_JFC]:\n",
    "    print(f'Properties of {node.name}: {node.props}')"
   ]
  },
  {
   "cell_type": "code",
   "execution_count": null,
   "id": "c8834e27",
   "metadata": {},
   "outputs": [],
   "source": [
    "# Let's annotate by looping over all nodes.\n",
    "# (Note that this overwrites the previous values.)\n",
    "for leaf in t:\n",
    "    is_vowel = leaf.name in 'AEIOU'\n",
    "    leaf.add_props(vowel=is_vowel, confidence=1)\n",
    "\n",
    "# Now we use this information to analyze the tree.\n",
    "print('This tree has', sum(1 for n in t.search_nodes(vowel=True)), 'vowel nodes')\n",
    "print('They are:', [leaf.name for leaf in t.leaves() if leaf.props['vowel']])\n"
   ]
  },
  {
   "cell_type": "code",
   "execution_count": null,
   "id": "efa07e7c",
   "metadata": {},
   "outputs": [],
   "source": [
    "# But features may refer to any kind of data, not only simple values.\n",
    "# For example, we can calculate some values and store them within nodes.\n",
    "#\n",
    "# Let's detect leaves under 'ancestor_JFC' with distance higher than 1.\n",
    "# Note that it traverses a subtree which starts from 'ancestor_JFC'.\n",
    "matches = [leaf for leaf in ancestor_JFC.leaves() if leaf.dist > 1.0]\n",
    "\n",
    "# And save this pre-computed information into the ancestor node.\n",
    "ancestor_JFC.add_props(long_branch_nodes=matches)\n",
    "\n",
    "# Prints the precomputed nodes\n",
    "print('These are the leaves under ancestor_JFC with long branches:',\n",
    "      [n.name for n in ancestor_JFC.props['long_branch_nodes']])"
   ]
  },
  {
   "cell_type": "code",
   "execution_count": null,
   "id": "496aae34",
   "metadata": {},
   "outputs": [],
   "source": [
    "# We can also use the add_props() method to dynamically add new features.\n",
    "value = input('Custom label value: ')\n",
    "ancestor_JFC.add_props(label=value)\n",
    "print(f'Ancestor has now the \"label\" property with value \"{value}\":')\n",
    "print(ancestor_JFC.props)"
   ]
  },
  {
   "cell_type": "code",
   "execution_count": null,
   "id": "0fd8cf07",
   "metadata": {},
   "outputs": [],
   "source": []
  },
  {
   "cell_type": "markdown",
   "id": "7ebfaaa4",
   "metadata": {},
   "source": [
    "The original newick format did not support adding extra features to a tree. ETE includes support for the **New Hampshire eXtended format (NHX)**, which uses the original newick standard and adds the possibility of saving additional data related to each tree node.\n",
    "\n",
    "Here is an example of a extended newick representation in which extra information is added to an internal node:"
   ]
  },
  {
   "cell_type": "markdown",
   "id": "704bbbbf-d443-4d03-aa70-f924f748f26c",
   "metadata": {},
   "source": [
    "```\n",
    "(A:0.3,(B:0.7,(D:0.6,G:0.1):0.6[&&NHX:conf=0.1:name=internal]):0.5);\n",
    "```"
   ]
  },
  {
   "cell_type": "markdown",
   "id": "258b6b66",
   "metadata": {},
   "source": [
    "As you can see, extra node features in the NHX format are enclosed between brackets. ETE is able to read and write features using this format, however, the encoded information is expected to be exportable as plain text.\n",
    "\n",
    "The NHX format is automatically detected when reading a newick file, and the detected node properties are added. You can access the information by using ```node.props[prop_name]```.\n",
    "\n",
    "Similarly, properties added to a tree can be included within the normal newick representation using the NHX notation. For this, you can call the ```Tree.write()``` method using the props argument, which is expected to be a list with the feature names that you want to include in the newick string. Use ```(props=None)``` to include all the node’s data into the newick string."
   ]
  },
  {
   "cell_type": "code",
   "execution_count": null,
   "id": "66269a7e",
   "metadata": {},
   "outputs": [],
   "source": [
    "t = Tree('((H:0.3,I:0.1),A:1,(B:0.4,(C:0.5,(J:1.3,(F:1.2,D:0.1)))));')\n",
    "\n",
    "print(t)"
   ]
  },
  {
   "cell_type": "code",
   "execution_count": null,
   "id": "da9ff1df",
   "metadata": {},
   "outputs": [],
   "source": [
    "# Add some more properties to leaves:\n",
    "for leaf in t:\n",
    "    is_vowel = leaf.name in 'AEIOU'\n",
    "    leaf.add_props(vowel=is_vowel, confidence=1)\n",
    "\n",
    "print('NHX notation including vowel and confidence properties:')\n",
    "print(t.write(props=['vowel']))"
   ]
  },
  {
   "cell_type": "code",
   "execution_count": null,
   "id": "c74bda73",
   "metadata": {},
   "outputs": [],
   "source": [
    "print('NHX notation including all data in the nodes:')\n",
    "print(t.write(props=None))"
   ]
  },
  {
   "cell_type": "code",
   "execution_count": null,
   "id": "254e5e65",
   "metadata": {},
   "outputs": [],
   "source": [
    "print('Exclude all NHX notation in the nodes:')\n",
    "print(t.write(props=[]))"
   ]
  },
  {
   "cell_type": "code",
   "execution_count": null,
   "id": "1b35ac2e",
   "metadata": {},
   "outputs": [],
   "source": []
  },
  {
   "cell_type": "markdown",
   "id": "519dafd4",
   "metadata": {},
   "source": [
    "To read NHX notation you can just read it as a normal newick:"
   ]
  },
  {
   "cell_type": "code",
   "execution_count": null,
   "id": "fe5d8503",
   "metadata": {},
   "outputs": [],
   "source": [
    "# Load the NHX example from https://www.phylosoft.org/NHX/\n",
    "nw = ('(((ADH2:0.1[&&NHX:S=human:E=1.1.1.1], ADH1:0.11[&&NHX:S=human:E=1.1.1.1])'\n",
    "      ':0.05[&&NHX:S=Primates:E=1.1.1.1:D=Y:B=100], ADHY:0.1[&&NHX:S=nematode:'\n",
    "      'E=1.1.1.1],ADHX:0.12[&&NHX:S=insect:E=1.1.1.1]):0.1[&&NHX:S=Metazoa:'\n",
    "      'E=1.1.1.1:D=N], (ADH4:0.09[&&NHX:S=yeast:E=1.1.1.1],ADH3:0.13[&&NHX:S=yeast:'\n",
    "      'E=1.1.1.1], ADH2:0.12[&&NHX:S=yeast:E=1.1.1.1],ADH1:0.11[&&NHX:S=yeast:E=1.1.1.1]):0.1'\n",
    "      '[&&NHX:S=Fungi])[&&NHX:E=1.1.1.1:D=N];')\n",
    "\n",
    "t = Tree(nw)\n",
    "\n",
    "print(t.to_str(props=['name', 'S'], compact=True))"
   ]
  },
  {
   "cell_type": "code",
   "execution_count": null,
   "id": "eec86232",
   "metadata": {},
   "outputs": [],
   "source": [
    "# And access the node's properties.\n",
    "print('S property for the nodes that have it:')\n",
    "for n in t.traverse():\n",
    "    if 'S' in n.props:\n",
    "        print('  %s: %s' % (n.name if n.name else n.id, n.props['S']))"
   ]
  },
  {
   "cell_type": "code",
   "execution_count": null,
   "id": "2df56358",
   "metadata": {},
   "outputs": [],
   "source": []
  },
  {
   "cell_type": "markdown",
   "id": "abe44121",
   "metadata": {},
   "source": [
    "# The Programmable Tree Drawing Engine in ETE4 smartview"
   ]
  },
  {
   "cell_type": "markdown",
   "id": "b1f0a089-7fce-49f3-9711-36e9acd28da1",
   "metadata": {},
   "source": [
    "# <span style=\"color:red\">TODO: The section below needs updating</span>"
   ]
  },
  {
   "cell_type": "markdown",
   "id": "6a94e18c",
   "metadata": {},
   "source": [
    "\n",
    "Overview\n",
    "--------\n",
    "\n",
    "Before exploring the novel features and enhancements introduced in ETE v4, it is essential to understand the foundational elements of ETE’s programmable tree drawing engine. Inherited from ETE v3, the following fundamental components form a highly adaptable backbone, enabling the various customization and structuring of visualizations: \n",
    "\n",
    "a) ```TreeStyle```, a class can be used to create a custom set of options that control the general aspect of the tree image. For example, users can modify the scale used to render tree branches or choose between circular or rectangular tree drawing, and customize general settings for tree visualizing such as title, footer, legend, etc.\n",
    "\n",
    "b) ```NodeStyle```, defines the specific aspect of each node (size, color, background, line type, etc.). A node style can be defined statically and attached to several nodes, or customized the conditions so different NodeStyle applied for nodes in different conditions. NodeStyle can even dynamically change on the fly to adapt ETE4’s zooming algorithm, which can be set through a TreeLayout.\n",
    "\n",
    "c) ```Face```, as called as node faces, are small pieces of extra graphical information that can be linked to nodes (text labels, images, graphs, etc.). Several types of node faces are provided by the previous ETE3 module, ranging from simple text (```TextFace```) and geometric shapes (```CircleFace```), to molecular sequence representations (SequenceFace), etc. These faces are upgraded in ETE4 to adapt the large tree drawing engine.\n",
    "\n",
    "d) ```TreeLayout```, is a class which defines a foundational layout for trees to set specific styles for both the entire tree and individual nodes, acting as a pre-drawing hooking framework. When a tree is about to be drawn, the above elements such as TreeStyle, NodeStyle, Face of nodes can be then set up and modified on the fly and returned to the drawer engine. Hence TreeLayout class can be understood as a suite of rules tree’s basic setting and how different nodes should be drawn. \n",
    "\n",
    "Scheme of fundamental components in ETE4's programmable tree drawing engine\n",
    "![image.png](https://github.com/dengzq1234/ete4_gallery/blob/master/smartview/fundamental_ete4.jpg?raw=true)"
   ]
  },
  {
   "cell_type": "code",
   "execution_count": null,
   "id": "89c935c2",
   "metadata": {},
   "outputs": [],
   "source": []
  },
  {
   "cell_type": "markdown",
   "id": "ac22e1bd",
   "metadata": {},
   "source": [
    "## Explore interactive visualization of trees "
   ]
  },
  {
   "cell_type": "markdown",
   "id": "d83d68f0",
   "metadata": {},
   "source": [
    "\n",
    "ETE's tree drawing engine is fully integrated with a built-in\n",
    "graphical user interface (GUI) which allows to explore and manipulate\n",
    "node's properties and tree topology. To start the visualization of a\n",
    "node (tree or subtree), you can simply call the :func:`explore\n",
    "<ete4.Tree.explore>` method.\n",
    "\n",
    "One of the advantages of this visualization is that you can use it to\n",
    "interrupt a given program/analysis, explore the tree, manipulate it,\n",
    "and continue with the execution. Note that **changes made using the\n",
    "GUI will be kept after quiting the GUI**. This feature is specially\n",
    "useful during python sessions, and it can be utilized in various environments \n",
    "by modifying argument *keep_server*, including standalone scripts and interactive \n",
    "sessions such as IPython or Jupyter Notebooks. Below are examples demonstrating \n",
    "the method's usage in each context."
   ]
  },
  {
   "cell_type": "markdown",
   "id": "b8369798",
   "metadata": {},
   "source": [
    "### Standalone scripts"
   ]
  },
  {
   "cell_type": "markdown",
   "id": "a26f767b",
   "metadata": {},
   "source": [
    "When running a standalone script, argument ```keep_server``` should be set as **True** to keep \n",
    "the server running."
   ]
  },
  {
   "cell_type": "code",
   "execution_count": null,
   "id": "6da6dfdc",
   "metadata": {},
   "outputs": [],
   "source": [
    "#!/usr/bin/python3\n",
    "from ete4 import Tree\n",
    "\n",
    "def main():\n",
    "    t = Tree('((a,b),c);')\n",
    "    t.explore(name=\"tree1\", keep_server=True)\n",
    "\n",
    "if __name__ == '__main__':\n",
    "    main()"
   ]
  },
  {
   "cell_type": "markdown",
   "id": "f0dd5cc2",
   "metadata": {},
   "source": [
    "### Interactive sessions"
   ]
  },
  {
   "cell_type": "markdown",
   "id": "ec34b4db",
   "metadata": {},
   "source": [
    "When running in interactive sessions such as IPython or Jupyter Notebooks, \n",
    "leave ```keep_server``` as default **False**."
   ]
  },
  {
   "cell_type": "code",
   "execution_count": null,
   "id": "5accca63",
   "metadata": {},
   "outputs": [],
   "source": [
    "from ete4 import Tree\n",
    "t = Tree('((a,b),c);')\n",
    "t.explore()"
   ]
  },
  {
   "cell_type": "markdown",
   "id": "2f43b104",
   "metadata": {},
   "source": [
    "### Verbose mode"
   ]
  },
  {
   "cell_type": "markdown",
   "id": "2519519f",
   "metadata": {},
   "source": [
    "When running in verbose mode by setting ```verbose``` argument to **True**, every action will be printed in the terminal."
   ]
  },
  {
   "cell_type": "code",
   "execution_count": null,
   "id": "93504f87",
   "metadata": {},
   "outputs": [],
   "source": [
    "from ete4 import Tree\n",
    "t = Tree('((a,b),c);')\n",
    "t.explore(verbose=True)"
   ]
  },
  {
   "cell_type": "code",
   "execution_count": null,
   "id": "4f9acd73",
   "metadata": {},
   "outputs": [],
   "source": []
  },
  {
   "cell_type": "markdown",
   "id": "918cfbf0",
   "metadata": {},
   "source": [
    "### Show leaf node names, branch length and branch support"
   ]
  },
  {
   "cell_type": "markdown",
   "id": "d0def303",
   "metadata": {},
   "source": [
    "Users can choose to show leaf node names, branch length and branch support in the \n",
    "tree ```explore()``` method."
   ]
  },
  {
   "cell_type": "code",
   "execution_count": null,
   "id": "2eedd8df",
   "metadata": {},
   "outputs": [],
   "source": [
    "from random import random\n",
    "from ete4 import Tree\n",
    "from ete4.smartview import BASIC_LAYOUT\n",
    "\n",
    "t = Tree()\n",
    "t.populate(10, dist_fn=random, support_fn=random)\n",
    "\n",
    "t.explore(layouts=[])  # will show no leaf names, branch length nor support\n",
    "\n",
    "t.explore(layouts=[BASIC_LAYOUT])  # will show them - the same as t.explore()"
   ]
  },
  {
   "cell_type": "code",
   "execution_count": null,
   "id": "b75f895f",
   "metadata": {},
   "outputs": [],
   "source": []
  },
  {
   "cell_type": "code",
   "execution_count": null,
   "id": "51ba7f61",
   "metadata": {},
   "outputs": [],
   "source": [
    "### Render and download "
   ]
  },
  {
   "cell_type": "code",
   "execution_count": null,
   "id": "24fef8ad",
   "metadata": {},
   "outputs": [],
   "source": []
  },
  {
   "cell_type": "markdown",
   "id": "b65d1683",
   "metadata": {},
   "source": [
    "## Customizing the aspect of trees"
   ]
  },
  {
   "cell_type": "markdown",
   "id": "72bcd06a-6d70-40f4-97d3-4cdd3bf0299b",
   "metadata": {},
   "source": [
    "# <span style=\"color:red\">TODO: The section below needs updating</span>"
   ]
  },
  {
   "cell_type": "markdown",
   "id": "b8b765de",
   "metadata": {},
   "source": [
    "Visualization customization is performed through four main elements: ```TreeStyle```, ```NodeStyle```, ```Face```, and ```TreeLayout```."
   ]
  },
  {
   "cell_type": "markdown",
   "id": "cf2ecdab",
   "metadata": {},
   "source": [
    "### Tree Layout"
   ]
  },
  {
   "cell_type": "markdown",
   "id": "07fa5bf1",
   "metadata": {},
   "source": [
    "As shown in scheme of fundamental components from the previous section, TreeLayout contains element of \n",
    "tree style, node style and faces. Therefore, TreeLayout is the most important element in ETE4's drawing engine \n",
    "in regards to visualize information other than pure tree topology. TreeLayout can be called from :class:`TreeLayout` \n",
    "from :class:`ete4.smartview:`. It contains the following arguments:\n",
    "\n",
    "- *name*: name of the TreeLayout object, obligatory field.\n",
    "- *ts*: a function to set tree style.\n",
    "- *ns*: a function to set node style.\n",
    "- *aligned_faces*: whether to draw faces in aligned position, default *False*.\n",
    "- *active*: whether to activate the TreeLayout, default *True*.\n",
    "- *legend*: whether to show legend(need to be defined in tree style function), default *False*.\n"
   ]
  },
  {
   "cell_type": "code",
   "execution_count": null,
   "id": "971f1826",
   "metadata": {},
   "outputs": [],
   "source": [
    "from ete4 import Tree\n",
    "from ete4.smartview import TreeLayout\n",
    "\n",
    "t = Tree()\n",
    "t.populate(20, random_branches=True)\n",
    "\n",
    "# define a TreeLayout\n",
    "tree_layout = TreeLayout(name=\"MyTreeLayout\")\n",
    "\n",
    "# add TreeLayout to layouts\n",
    "layouts = []\n",
    "layouts.append(tree_layout)\n",
    "\n",
    "# explore tree\n",
    "t.explore(keep_server=True, layouts=layouts)"
   ]
  },
  {
   "cell_type": "code",
   "execution_count": null,
   "id": "38450763",
   "metadata": {},
   "outputs": [],
   "source": []
  },
  {
   "cell_type": "code",
   "execution_count": null,
   "id": "5c06f1ea",
   "metadata": {},
   "outputs": [],
   "source": []
  },
  {
   "cell_type": "code",
   "execution_count": null,
   "id": "16ee9278",
   "metadata": {},
   "outputs": [],
   "source": []
  },
  {
   "cell_type": "code",
   "execution_count": null,
   "id": "339f02bf",
   "metadata": {},
   "outputs": [],
   "source": []
  },
  {
   "cell_type": "code",
   "execution_count": null,
   "id": "4b36f4dc",
   "metadata": {},
   "outputs": [],
   "source": []
  }
 ],
 "metadata": {
  "kernelspec": {
   "display_name": "Python 3 (ipykernel)",
   "language": "python",
   "name": "python3"
  },
  "language_info": {
   "codemirror_mode": {
    "name": "ipython",
    "version": 3
   },
   "file_extension": ".py",
   "mimetype": "text/x-python",
   "name": "python",
   "nbconvert_exporter": "python",
   "pygments_lexer": "ipython3",
   "version": "3.10.9"
  }
 },
 "nbformat": 4,
 "nbformat_minor": 5
}
