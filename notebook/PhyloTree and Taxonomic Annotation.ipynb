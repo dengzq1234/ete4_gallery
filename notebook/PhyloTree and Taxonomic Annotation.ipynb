{
 "cells": [
  {
   "cell_type": "markdown",
   "id": "ccdbba51",
   "metadata": {},
   "source": [
    "# Introduction of PhyloTree Module for Evolutionary Analyses "
   ]
  },
  {
   "cell_type": "markdown",
   "id": "e7b0d966",
   "metadata": {},
   "source": [
    "Phylogenetic trees are the result of most evolutionary analyses. They represent the evolutionary relationships among a set of species or, in molecular biology, a set of homologous sequences."
   ]
  },
  {
   "cell_type": "code",
   "execution_count": null,
   "id": "ebe589e2",
   "metadata": {},
   "outputs": [],
   "source": []
  },
  {
   "cell_type": "markdown",
   "id": "0631d98b",
   "metadata": {},
   "source": [
    "## Comparing `Tree()` and `PhyloTree()` in ETE\n",
    "\n",
    "- `Tree()`\n",
    "\n",
    "It does not need to be a phylogenetic tree, any hierarchical tree-like structure could in\n",
    "theory be used as long as it’s in newick format.\n",
    "So, in ETE, trees are just a bunch of interconnected nodes that form a hierarchical\n",
    "structure.\n",
    "\n",
    "- `PhyloTree()`\n",
    "\n",
    "The `PhyloTree` is a special class in ETE that was developed to work specifically with\n",
    "phylogenetic trees, as an extension of the base `Tree` class. \n",
    "By default, a PhyloTree incorporates information about thespecies related to the leaf. Thus, while leaves are considered to represent species (or sequences from a given species genome), internal nodes are considered ancestral nodes. A direct consequence of this is, for instance, that every split in the tree will represent a speciation or duplication event.\n",
    "\n",
    "\n",
    "| Tree type          | ete4.Tree() | ete4.PhyloTree() |\n",
    "|--------------------|-------------|------------------|\n",
    "| Leaf names         | Yes         | Yes              |\n",
    "| Branch lengths     | Yes         | Yes              |\n",
    "| Support            | Yes         | Yes              |\n",
    "| **Species information**| No          | Yes              |\n",
    "\n"
   ]
  },
  {
   "cell_type": "code",
   "execution_count": null,
   "id": "77c5ebd9",
   "metadata": {},
   "outputs": [],
   "source": []
  },
  {
   "cell_type": "markdown",
   "id": "0e086640",
   "metadata": {},
   "source": [
    "## Overview of `PhyloTree`"
   ]
  },
  {
   "cell_type": "markdown",
   "id": "908608c8",
   "metadata": {},
   "source": [
    "## [PhyloTree](https://etetoolkit.github.io/ete/reference/reference_phylo.html#ete4.PhyloTree)\n",
    "\n",
    "*class* **PhyloTree** *(\n",
    "            newick=None, children=None, \n",
    "            alignment=None, alg_format='fasta', \n",
    "            sp_naming_function=`<function _parse_species>`, \n",
    "            parser=None)*\n",
    "\n",
    "Bases: [`Tree`](file:///home/deng/Projects/ete4/hackathon/ete4/doc/_build/html/reference/reference_tree.html#ete4.Tree)\n",
    "\n",
    "Class to store a phylogenetic tree.\n",
    "\n",
    "Extends the standard [`Tree`](file:///home/deng/Projects/ete4/hackathon/ete4/doc/_build/html/reference/reference_tree.html#ete4.Tree) instance by adding specific properties and methods to work with phylogenetic trees.\n",
    "\n",
    "**Attributes**\n",
    "- **newick** – If not None, initializes the tree from a newick, which can be a string or file object containing it.\n",
    "- **children** – If not None, the children to add to this node.\n",
    "- **alignment** – File containing a multiple sequence alignment.\n",
    "- **alg_format** – “fasta”, “phylip” or “iphylip” (interleaved).\n",
    "- **parser** – Parser to read the newick.\n",
    "- **sp_naming_function** – Function that gets a node name and returns the species name (see [`PhyloTree.set_species_naming_function()`](https://etetoolkit.github.io/ete/reference/reference_phylo.html#ete4.PhyloTree.set_species_naming_function)). By default, the 3 first letters of node names will be used as species identifier.\n",
    "- **species** - species identifier of node.\n",
    "\n",
    "\n",
    "**Methods**\n",
    "\n",
    "- **annotate_gtdb_taxa** *(taxid_attr='species', tax2name=None, tax2track=None, tax2rank=None, dbfile=None)*\n",
    "\n",
    "Add NCBI taxonomy annotation to all descendant nodes. Leaf nodes are expected to contain a feature (name, by default) encoding a valid taxid number.\n",
    "  \n",
    "- **annotate_ncbi_taxa** *(taxid_attr='species', tax2name=None, tax2track=None, tax2rank=None, dbfile=None)*\n",
    "\n",
    "Add GTDB taxonomy annotation to all descendant nodes. Leaf nodes are expected to contain a feature (name, by default) encoding a valid taxid number.\n",
    "\n",
    "- **get_species()** \n",
    "\n",
    "Returns the set of species covered by its partition.\n",
    "\n",
    "- (More detailed information in [PhyloTree documentation](https://etetoolkit.github.io/ete/reference/reference_phylo.html#ete4.PhyloTree.set_species_naming_function))\n"
   ]
  },
  {
   "cell_type": "code",
   "execution_count": null,
   "id": "4ebd2bbb",
   "metadata": {},
   "outputs": [],
   "source": []
  },
  {
   "cell_type": "markdown",
   "id": "9c4af9b2",
   "metadata": {},
   "source": [
    "## Assign `species` to nodes"
   ]
  },
  {
   "cell_type": "code",
   "execution_count": null,
   "id": "113f6db8",
   "metadata": {},
   "outputs": [],
   "source": [
    "Adding taxonomic information\n",
    "PhyloTree instances allow to deal with leaf names and species names separately. This is useful when working with molecular phylogenies, in which node names usually represent sequence identifiers.\n",
    "\n",
    "Species names will be stored in the PhyloTree.species attribute of each leaf node. The method PhyloTree.get_species() can be used obtain the set of species names found under a given internal node (speciation or duplication event). Often, sequence names do contain species information as a part of the name, and ETE can parse this information automatically.\n",
    "\n",
    "There are three ways to establish the species of the different tree nodes:\n",
    "\n",
    "By using the three first letters of the node’s name (default)\n",
    "\n",
    "By dynamically calling a function based on the node’s name\n",
    "\n",
    "By setting it manually for each node\n",
    "# load PhyloTree\n",
    "from ete4 import PhyloTree\n",
    "\n",
    "tree = PhyloTree('((9606|protA, 9598|protA), 10090|protB);')"
   ]
  },
  {
   "cell_type": "code",
   "execution_count": 20,
   "id": "6fc9f525",
   "metadata": {},
   "outputs": [],
   "source": [
    "from ete4 import PhyloTree\n",
    "tree = PhyloTree('((9606|protA, 9598|protA), 10090|protB);')"
   ]
  },
  {
   "cell_type": "code",
   "execution_count": null,
   "id": "79397161",
   "metadata": {},
   "outputs": [],
   "source": []
  },
  {
   "cell_type": "code",
   "execution_count": null,
   "id": "56eaab5a",
   "metadata": {},
   "outputs": [],
   "source": []
  },
  {
   "cell_type": "code",
   "execution_count": null,
   "id": "fac086da",
   "metadata": {},
   "outputs": [],
   "source": []
  }
 ],
 "metadata": {
  "kernelspec": {
   "display_name": "Python 3 (ipykernel)",
   "language": "python",
   "name": "python3"
  },
  "language_info": {
   "codemirror_mode": {
    "name": "ipython",
    "version": 3
   },
   "file_extension": ".py",
   "mimetype": "text/x-python",
   "name": "python",
   "nbconvert_exporter": "python",
   "pygments_lexer": "ipython3",
   "version": "3.7.11"
  }
 },
 "nbformat": 4,
 "nbformat_minor": 5
}
